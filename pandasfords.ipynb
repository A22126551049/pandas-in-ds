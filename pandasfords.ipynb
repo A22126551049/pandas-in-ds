{
  "cells": [
    {
      "cell_type": "markdown",
      "metadata": {
        "id": "H9wJHAdpjj90"
      },
      "source": [
        "# Detailed Introduction to Pandas for Data Science\n",
        "\n",
        "Pandas is a powerful library for data manipulation and analysis in Python. It provides two primary data structures: `Series` and `DataFrame`, which are essential for handling and analyzing structured data. This notebook covers various operations and functionalities in Pandas."
      ]
    },
    {
      "cell_type": "markdown",
      "metadata": {
        "id": "uXvRlwf-jj90"
      },
      "source": [
        "## 1. Importing Pandas\n",
        "\n",
        "To use Pandas, you need to import it. It is standard practice to import Pandas as `pd` for convenience."
      ]
    },
    {
      "cell_type": "code",
      "execution_count": 20,
      "metadata": {
        "id": "fWzqe-aWjj91"
      },
      "outputs": [],
      "source": [
        "import pandas as pd"
      ]
    },
    {
      "cell_type": "markdown",
      "metadata": {
        "id": "vrRuXRUZjj91"
      },
      "source": [
        "## 2. Creating Pandas Data Structures\n",
        "\n",
        "Pandas provides two main data structures: `Series` and `DataFrame`. Understanding how to create and manipulate these structures is fundamental to using Pandas effectively."
      ]
    },
    {
      "cell_type": "markdown",
      "metadata": {
        "id": "xZydQOMtjj91"
      },
      "source": [
        "### 2.1. Series\n",
        "A `Series` is a one-dimensional labeled array capable of holding any data type. It can be created from lists, arrays, or dictionaries."
      ]
    },
    {
      "cell_type": "code",
      "execution_count": 21,
      "metadata": {
        "colab": {
          "base_uri": "https://localhost:8080/"
        },
        "id": "0jPO-Bufjj91",
        "outputId": "2b9e0233-b9cf-413a-b4a1-08151bbcb55e"
      },
      "outputs": [
        {
          "output_type": "stream",
          "name": "stdout",
          "text": [
            "Series from list:\n",
            "0    10\n",
            "1    20\n",
            "2    30\n",
            "3    40\n",
            "4    50\n",
            "dtype: int64\n",
            "\n",
            "Series from dictionary:\n",
            "a    1\n",
            "b    2\n",
            "c    3\n",
            "dtype: int64\n"
          ]
        }
      ],
      "source": [
        "# Creating a Pandas Series from a list\n",
        "series_from_list = pd.Series([10, 20, 30, 40, 50])\n",
        "print(\"Series from list:\")\n",
        "print(series_from_list)\n",
        "\n",
        "# Creating a Pandas Series from a dictionary\n",
        "series_from_dict = pd.Series({'a': 1, 'b': 2, 'c': 3})\n",
        "print(\"\\nSeries from dictionary:\")\n",
        "print(series_from_dict)"
      ]
    },
    {
      "cell_type": "markdown",
      "metadata": {
        "id": "zHAcZ2REjj91"
      },
      "source": [
        "### 2.2. DataFrame\n",
        "A `DataFrame` is a two-dimensional labeled data structure with columns of potentially different types. It can be created from dictionaries of Series, lists, or other DataFrames."
      ]
    },
    {
      "cell_type": "code",
      "execution_count": 22,
      "metadata": {
        "colab": {
          "base_uri": "https://localhost:8080/"
        },
        "id": "ZKhWQ3-Djj91",
        "outputId": "21d31e83-6b7d-4657-cfe8-8d74c1a7eef2"
      },
      "outputs": [
        {
          "output_type": "stream",
          "name": "stdout",
          "text": [
            "DataFrame from dictionary of lists:\n",
            "      Name  Age         City\n",
            "0    Alice   25     New York\n",
            "1      Bob   30  Los Angeles\n",
            "2  Charlie   35      Chicago\n"
          ]
        }
      ],
      "source": [
        "# Creating a DataFrame from a dictionary of lists\n",
        "data = {\n",
        "    'Name': ['Alice', 'Bob', 'Charlie'],\n",
        "    'Age': [25, 30, 35],\n",
        "    'City': ['New York', 'Los Angeles', 'Chicago']\n",
        "}\n",
        "df = pd.DataFrame(data)\n",
        "print(\"DataFrame from dictionary of lists:\")\n",
        "print(df)"
      ]
    },
    {
      "cell_type": "markdown",
      "metadata": {
        "id": "ev97d_5kjj91"
      },
      "source": [
        "## 3. Inspecting Data\n",
        "\n",
        "Pandas provides various methods to inspect and understand the structure of your data. These methods are crucial for data exploration and analysis."
      ]
    },
    {
      "cell_type": "markdown",
      "metadata": {
        "id": "EPlq7lpQjj92"
      },
      "source": [
        "### 3.1. Viewing the First and Last Rows\n",
        "Use `head()` and `tail()` methods to view the first and last few rows of a DataFrame."
      ]
    },
    {
      "cell_type": "code",
      "execution_count": 23,
      "metadata": {
        "colab": {
          "base_uri": "https://localhost:8080/"
        },
        "id": "YydojqHtjj92",
        "outputId": "f139c663-b988-480e-e634-2a802737c182"
      },
      "outputs": [
        {
          "output_type": "stream",
          "name": "stdout",
          "text": [
            "First 3 rows:\n",
            "      Name  Age         City\n",
            "0    Alice   25     New York\n",
            "1      Bob   30  Los Angeles\n",
            "2  Charlie   35      Chicago\n",
            "\n",
            "Last 2 rows:\n",
            "      Name  Age         City\n",
            "1      Bob   30  Los Angeles\n",
            "2  Charlie   35      Chicago\n"
          ]
        }
      ],
      "source": [
        "# Viewing the first 3 rows\n",
        "print(\"First 3 rows:\")\n",
        "print(df.head(3))\n",
        "\n",
        "# Viewing the last 2 rows\n",
        "print(\"\\nLast 2 rows:\")\n",
        "print(df.tail(2))"
      ]
    },
    {
      "cell_type": "markdown",
      "metadata": {
        "id": "QSjNVsEAjj92"
      },
      "source": [
        "### 3.2. Summary Statistics\n",
        "The `describe()` method provides summary statistics of the numerical columns in a DataFrame."
      ]
    },
    {
      "cell_type": "code",
      "execution_count": 24,
      "metadata": {
        "colab": {
          "base_uri": "https://localhost:8080/"
        },
        "id": "GcoZe2JHjj92",
        "outputId": "54805228-0ca2-4df9-ddc8-5f413344b6dd"
      },
      "outputs": [
        {
          "output_type": "stream",
          "name": "stdout",
          "text": [
            "Summary statistics:\n",
            "        Age\n",
            "count   3.0\n",
            "mean   30.0\n",
            "std     5.0\n",
            "min    25.0\n",
            "25%    27.5\n",
            "50%    30.0\n",
            "75%    32.5\n",
            "max    35.0\n"
          ]
        }
      ],
      "source": [
        "# Summary statistics of numerical columns\n",
        "print(\"Summary statistics:\")\n",
        "print(df.describe())"
      ]
    },
    {
      "cell_type": "markdown",
      "metadata": {
        "id": "x5LTFAkkjj92"
      },
      "source": [
        "### 3.3. Data Types\n",
        "Use the `dtypes` attribute to view the data types of each column in a DataFrame."
      ]
    },
    {
      "cell_type": "code",
      "execution_count": 25,
      "metadata": {
        "colab": {
          "base_uri": "https://localhost:8080/"
        },
        "id": "t1EbLrJsjj92",
        "outputId": "81780ade-1f74-4d81-ba7d-a6a55d0bd650"
      },
      "outputs": [
        {
          "output_type": "stream",
          "name": "stdout",
          "text": [
            "Data types of columns:\n",
            "Name    object\n",
            "Age      int64\n",
            "City    object\n",
            "dtype: object\n"
          ]
        }
      ],
      "source": [
        "# Data types of each column\n",
        "print(\"Data types of columns:\")\n",
        "print(df.dtypes)"
      ]
    },
    {
      "cell_type": "markdown",
      "metadata": {
        "id": "sOZdm4CYjj92"
      },
      "source": [
        "## 4. Selecting Data\n",
        "\n",
        "Selecting data from a DataFrame is a crucial operation for data analysis. Pandas provides various ways to select data based on labels or positions."
      ]
    },
    {
      "cell_type": "markdown",
      "metadata": {
        "id": "xBWOAKudjj92"
      },
      "source": [
        "### 4.1. Selecting Columns\n",
        "You can select columns from a DataFrame by using column names."
      ]
    },
    {
      "cell_type": "code",
      "execution_count": 26,
      "metadata": {
        "colab": {
          "base_uri": "https://localhost:8080/"
        },
        "id": "AGpgFd5Cjj92",
        "outputId": "eb48b6f9-a667-4e1f-93b2-5728482866c1"
      },
      "outputs": [
        {
          "output_type": "stream",
          "name": "stdout",
          "text": [
            "Name column:\n",
            "0      Alice\n",
            "1        Bob\n",
            "2    Charlie\n",
            "Name: Name, dtype: object\n",
            "\n",
            "Name and City columns:\n",
            "      Name         City\n",
            "0    Alice     New York\n",
            "1      Bob  Los Angeles\n",
            "2  Charlie      Chicago\n"
          ]
        }
      ],
      "source": [
        "# Selecting a single column\n",
        "print(\"Name column:\")\n",
        "print(df['Name'])\n",
        "\n",
        "# Selecting multiple columns\n",
        "print(\"\\nName and City columns:\")\n",
        "print(df[['Name', 'City']])"
      ]
    },
    {
      "cell_type": "markdown",
      "metadata": {
        "id": "WGO9HlfAjj92"
      },
      "source": [
        "### 4.2. Selecting Rows\n",
        "You can select rows using the `loc` and `iloc` methods. `loc` is label-based, while `iloc` is integer-location based."
      ]
    },
    {
      "cell_type": "code",
      "execution_count": 27,
      "metadata": {
        "colab": {
          "base_uri": "https://localhost:8080/"
        },
        "id": "u2Lkddr-jj92",
        "outputId": "fac664f0-82eb-428d-fefd-e750fe3b3f72"
      },
      "outputs": [
        {
          "output_type": "stream",
          "name": "stdout",
          "text": [
            "Row with label 1:\n",
            "Name            Bob\n",
            "Age              30\n",
            "City    Los Angeles\n",
            "Name: 1, dtype: object\n",
            "\n",
            "Row with index position 2:\n",
            "Name    Charlie\n",
            "Age          35\n",
            "City    Chicago\n",
            "Name: 2, dtype: object\n"
          ]
        }
      ],
      "source": [
        "# Selecting a row by label\n",
        "print(\"Row with label 1:\")\n",
        "print(df.loc[1])\n",
        "\n",
        "# Selecting a row by index position\n",
        "print(\"\\nRow with index position 2:\")\n",
        "print(df.iloc[2])"
      ]
    },
    {
      "cell_type": "markdown",
      "metadata": {
        "id": "hKnwvlpgjj92"
      },
      "source": [
        "### 4.3. Conditional Selection\n",
        "You can select rows based on conditions applied to column values."
      ]
    },
    {
      "cell_type": "code",
      "execution_count": 28,
      "metadata": {
        "colab": {
          "base_uri": "https://localhost:8080/"
        },
        "id": "-72VgmApjj92",
        "outputId": "ae7327b2-f41b-4b98-870a-3cc5c57791b9"
      },
      "outputs": [
        {
          "output_type": "stream",
          "name": "stdout",
          "text": [
            "Rows where Age > 25:\n",
            "      Name  Age         City\n",
            "1      Bob   30  Los Angeles\n",
            "2  Charlie   35      Chicago\n"
          ]
        }
      ],
      "source": [
        "# Selecting rows where Age > 25\n",
        "print(\"Rows where Age > 25:\")\n",
        "print(df[df['Age'] > 25])"
      ]
    },
    {
      "cell_type": "markdown",
      "metadata": {
        "id": "DX-SXrUpjj92"
      },
      "source": [
        "## 5. Data Cleaning\n",
        "\n",
        "Data cleaning is an essential step in data analysis. Pandas provides various methods to handle missing values, duplicate entries, and other data issues."
      ]
    },
    {
      "cell_type": "markdown",
      "metadata": {
        "id": "5lvbVb7Cjj92"
      },
      "source": [
        "### 5.1. Handling Missing Values\n",
        "You can detect and handle missing values using methods like `isna()`, `dropna()`, and `fillna()`."
      ]
    },
    {
      "cell_type": "code",
      "execution_count": 29,
      "metadata": {
        "colab": {
          "base_uri": "https://localhost:8080/"
        },
        "id": "6zg0V9Pvjj92",
        "outputId": "c740aca6-5033-42f4-c591-e697cb48710b"
      },
      "outputs": [
        {
          "output_type": "stream",
          "name": "stdout",
          "text": [
            "DataFrame with NaN values:\n",
            "      Name   Age         City\n",
            "0    Alice  25.0     New York\n",
            "1      Bob   NaN  Los Angeles\n",
            "2  Charlie  35.0         None\n",
            "3     None  40.0      Chicago\n",
            "\n",
            "Missing values in DataFrame:\n",
            "    Name    Age   City\n",
            "0  False  False  False\n",
            "1  False   True  False\n",
            "2  False  False   True\n",
            "3   True  False  False\n",
            "\n",
            "DataFrame after dropping missing values:\n",
            "    Name   Age      City\n",
            "0  Alice  25.0  New York\n",
            "\n",
            "DataFrame after filling missing values:\n",
            "      Name        Age         City\n",
            "0    Alice  25.000000     New York\n",
            "1      Bob  33.333333  Los Angeles\n",
            "2  Charlie  35.000000      Unknown\n",
            "3     None  40.000000      Chicago\n"
          ]
        }
      ],
      "source": [
        "# Creating a DataFrame with missing values\n",
        "df_with_nan = pd.DataFrame({\n",
        "    'Name': ['Alice', 'Bob', 'Charlie', None],\n",
        "    'Age': [25, None, 35, 40],\n",
        "    'City': ['New York', 'Los Angeles', None, 'Chicago']\n",
        "})\n",
        "print(\"DataFrame with NaN values:\")\n",
        "print(df_with_nan)\n",
        "\n",
        "# Detecting missing values\n",
        "print(\"\\nMissing values in DataFrame:\")\n",
        "print(df_with_nan.isna())\n",
        "\n",
        "# Dropping rows with missing values\n",
        "df_dropped = df_with_nan.dropna()\n",
        "print(\"\\nDataFrame after dropping missing values:\")\n",
        "print(df_dropped)\n",
        "\n",
        "# Filling missing values\n",
        "df_filled = df_with_nan.fillna({'Age': df_with_nan['Age'].mean(), 'City': 'Unknown'})\n",
        "print(\"\\nDataFrame after filling missing values:\")\n",
        "print(df_filled)"
      ]
    },
    {
      "cell_type": "markdown",
      "metadata": {
        "id": "bfSQr1Cjjj93"
      },
      "source": [
        "### 5.2. Removing Duplicates\n",
        "You can remove duplicate rows using the `drop_duplicates()` method."
      ]
    },
    {
      "cell_type": "code",
      "execution_count": 30,
      "metadata": {
        "colab": {
          "base_uri": "https://localhost:8080/"
        },
        "id": "tmZqLsHBjj93",
        "outputId": "d41f3cf8-7b73-408a-f8fc-f29a8ba4252f"
      },
      "outputs": [
        {
          "output_type": "stream",
          "name": "stdout",
          "text": [
            "DataFrame with duplicates:\n",
            "      Name  Age         City\n",
            "0    Alice   25     New York\n",
            "1      Bob   30  Los Angeles\n",
            "2    Alice   25     New York\n",
            "3  Charlie   35      Chicago\n",
            "\n",
            "DataFrame after removing duplicates:\n",
            "      Name  Age         City\n",
            "0    Alice   25     New York\n",
            "1      Bob   30  Los Angeles\n",
            "3  Charlie   35      Chicago\n"
          ]
        }
      ],
      "source": [
        "# Creating a DataFrame with duplicate rows\n",
        "df_with_duplicates = pd.DataFrame({\n",
        "    'Name': ['Alice', 'Bob', 'Alice', 'Charlie'],\n",
        "    'Age': [25, 30, 25, 35],\n",
        "    'City': ['New York', 'Los Angeles', 'New York', 'Chicago']\n",
        "})\n",
        "print(\"DataFrame with duplicates:\")\n",
        "print(df_with_duplicates)\n",
        "\n",
        "# Removing duplicate rows\n",
        "df_no_duplicates = df_with_duplicates.drop_duplicates()\n",
        "print(\"\\nDataFrame after removing duplicates:\")\n",
        "print(df_no_duplicates)"
      ]
    },
    {
      "cell_type": "markdown",
      "metadata": {
        "id": "4THZNXFvjj93"
      },
      "source": [
        "## 6. Data Aggregation\n",
        "\n",
        "Data aggregation involves summarizing and grouping data based on specific criteria. Pandas provides powerful methods for aggregation and grouping."
      ]
    },
    {
      "cell_type": "markdown",
      "metadata": {
        "id": "D67GBuIEjj93"
      },
      "source": [
        "### 6.1. Grouping Data\n",
        "You can group data using the `groupby()` method and then perform aggregate functions like sum, mean, and count."
      ]
    },
    {
      "cell_type": "code",
      "execution_count": 31,
      "metadata": {
        "colab": {
          "base_uri": "https://localhost:8080/"
        },
        "id": "ids7CeOvjj93",
        "outputId": "c6026544-f3e0-4c79-cd2f-d9bb37e0a002"
      },
      "outputs": [
        {
          "output_type": "stream",
          "name": "stdout",
          "text": [
            "DataFrame for grouping:\n",
            "      Name  Age         City\n",
            "0    Alice   25     New York\n",
            "1      Bob   30  Los Angeles\n",
            "2    Alice   25     New York\n",
            "3  Charlie   35      Chicago\n",
            "4      Bob   30  Los Angeles\n",
            "\n",
            "Grouped Data (mean age by Name):\n",
            "                      Age\n",
            "Name    City             \n",
            "Alice   New York     25.0\n",
            "Bob     Los Angeles  30.0\n",
            "Charlie Chicago      35.0\n"
          ]
        }
      ],
      "source": [
        "# Creating a DataFrame for grouping\n",
        "df_grouping = pd.DataFrame({\n",
        "    'Name': ['Alice', 'Bob', 'Alice', 'Charlie', 'Bob'],\n",
        "    'Age': [25, 30, 25, 35, 30],\n",
        "    'City': ['New York', 'Los Angeles', 'New York', 'Chicago', 'Los Angeles']\n",
        "})\n",
        "print(\"DataFrame for grouping:\")\n",
        "print(df_grouping)\n",
        "\n",
        "# Grouping by 'Name' and calculating mean age\n",
        "grouped = df_grouping.groupby(['Name','City']).mean()\n",
        "print(\"\\nGrouped Data (mean age by Name):\")\n",
        "print(grouped)"
      ]
    },
    {
      "cell_type": "markdown",
      "metadata": {
        "id": "SOnORNw1jj93"
      },
      "source": [
        "### 6.2. Aggregation Functions\n",
        "You can apply aggregation functions like `sum()`, `mean()`, `count()`, and `agg()` to grouped data."
      ]
    },
    {
      "cell_type": "code",
      "execution_count": 32,
      "metadata": {
        "colab": {
          "base_uri": "https://localhost:8080/"
        },
        "id": "BVNK54Gjjj93",
        "outputId": "e79a9d1f-6d87-4df2-a460-2081deb2b7a1"
      },
      "outputs": [
        {
          "output_type": "stream",
          "name": "stdout",
          "text": [
            "\n",
            "Aggregated Data (mean, sum, count of Age by City):\n",
            "              Age          \n",
            "             mean sum count\n",
            "City                       \n",
            "Chicago      35.0  35     1\n",
            "Los Angeles  30.0  60     2\n",
            "New York     25.0  50     2\n"
          ]
        }
      ],
      "source": [
        "# Aggregating data with multiple functions\n",
        "aggregation = df_grouping.groupby('City').agg({\n",
        "    'Age': ['mean', 'sum', 'count']\n",
        "})\n",
        "print(\"\\nAggregated Data (mean, sum, count of Age by City):\")\n",
        "print(aggregation)"
      ]
    },
    {
      "cell_type": "markdown",
      "metadata": {
        "id": "mwD6PwFhjj93"
      },
      "source": [
        "## 7. Merging and Joining DataFrames\n",
        "\n",
        "Merging and joining DataFrames are essential operations for combining datasets based on common columns or indices."
      ]
    },
    {
      "cell_type": "markdown",
      "metadata": {
        "id": "y286Dpeajj93"
      },
      "source": [
        "### 7.1. Merging DataFrames\n",
        "You can merge DataFrames using the `merge()` method, similar to SQL joins."
      ]
    },
    {
      "cell_type": "code",
      "execution_count": 33,
      "metadata": {
        "colab": {
          "base_uri": "https://localhost:8080/"
        },
        "id": "G_EtlwZqjj93",
        "outputId": "2a07aa21-49bd-40c0-9ce0-de93cb004063"
      },
      "outputs": [
        {
          "output_type": "stream",
          "name": "stdout",
          "text": [
            "DataFrame df1:\n",
            "   ID     Name\n",
            "0   1    Alice\n",
            "1   2      Bob\n",
            "2   3  Charlie\n",
            "\n",
            "DataFrame df2:\n",
            "   ID  Age\n",
            "0   1   25\n",
            "1   2   30\n",
            "2   4   40\n",
            "\n",
            "Merged DataFrame:\n",
            "   ID   Name  Age\n",
            "0   1  Alice   25\n",
            "1   2    Bob   30\n"
          ]
        }
      ],
      "source": [
        "# Creating DataFrames for merging\n",
        "df1 = pd.DataFrame({\n",
        "    'ID': [1, 2, 3],\n",
        "    'Name': ['Alice', 'Bob', 'Charlie']\n",
        "})\n",
        "df2 = pd.DataFrame({\n",
        "    'ID': [1, 2, 4],\n",
        "    'Age': [25, 30, 40]\n",
        "})\n",
        "print(\"DataFrame df1:\")\n",
        "print(df1)\n",
        "print(\"\\nDataFrame df2:\")\n",
        "print(df2)\n",
        "\n",
        "# Merging DataFrames on 'ID'\n",
        "merged_df = pd.merge(df1, df2, on='ID', how='inner')\n",
        "print(\"\\nMerged DataFrame:\")\n",
        "print(merged_df)"
      ]
    },
    {
      "cell_type": "markdown",
      "metadata": {
        "id": "68OmHk4Yjj93"
      },
      "source": [
        "### 7.2. Joining DataFrames\n",
        "Joining DataFrames can be done using the `join()` method, which is useful for joining on indices."
      ]
    },
    {
      "cell_type": "code",
      "execution_count": 34,
      "metadata": {
        "colab": {
          "base_uri": "https://localhost:8080/"
        },
        "id": "vX3MCdycjj93",
        "outputId": "4bb8d633-2530-4ea0-e2dc-683b9c03c247"
      },
      "outputs": [
        {
          "output_type": "stream",
          "name": "stdout",
          "text": [
            "DataFrame df3:\n",
            "           City\n",
            "ID             \n",
            "1      New York\n",
            "2   Los Angeles\n",
            "3       Chicago\n",
            "\n",
            "DataFrame df4:\n",
            "    Salary\n",
            "ID        \n",
            "1    70000\n",
            "2    80000\n",
            "4    90000\n",
            "\n",
            "Joined DataFrame:\n",
            "           City   Salary\n",
            "ID                      \n",
            "1      New York  70000.0\n",
            "2   Los Angeles  80000.0\n",
            "3       Chicago      NaN\n"
          ]
        }
      ],
      "source": [
        "# Creating DataFrames for joining\n",
        "df3 = pd.DataFrame({\n",
        "    'ID': [1, 2, 3],\n",
        "    'City': ['New York', 'Los Angeles', 'Chicago']\n",
        "}).set_index('ID')\n",
        "df4 = pd.DataFrame({\n",
        "    'ID': [1, 2, 4],\n",
        "    'Salary': [70000, 80000, 90000]\n",
        "}).set_index('ID')\n",
        "print(\"DataFrame df3:\")\n",
        "print(df3)\n",
        "print(\"\\nDataFrame df4:\")\n",
        "print(df4)\n",
        "\n",
        "# Joining DataFrames on index\n",
        "joined_df = df3.join(df4, how='left')\n",
        "print(\"\\nJoined DataFrame:\")\n",
        "print(joined_df)"
      ]
    },
    {
      "cell_type": "markdown",
      "metadata": {
        "id": "LzNG-JJzjj-A"
      },
      "source": [
        "## Conclusion\n",
        "\n",
        "This notebook has covered the basics of Pandas for data manipulation and analysis, including data inspection, selection, cleaning, aggregation, merging, visualization, and exporting. These skills are essential for data science and can be expanded upon with more complex operations and functions."
      ]
    }
  ],
  "metadata": {
    "kernelspec": {
      "display_name": "Python 3",
      "language": "python",
      "name": "python3"
    },
    "language_info": {
      "codemirror_mode": {
        "name": "ipython",
        "version": 3
      },
      "file_extension": ".py",
      "mimetype": "text/x-python",
      "name": "python",
      "nbconvert_exporter": "python",
      "pygments_lexer": "ipython3",
      "version": "3.8.5"
    },
    "colab": {
      "provenance": []
    }
  },
  "nbformat": 4,
  "nbformat_minor": 0
}