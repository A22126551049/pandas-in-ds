{
 "cells": [
  {
   "cell_type": "markdown",
   "metadata": {},
   "source": [
    "# 1. Getting Familiar with Pandas\n",
    "Pandas is a powerful data manipulation library in Python. It provides two primary data structures: DataFrames and Series.\n",
    "\n",
    "### DataFrames and Series\n",
    "- **DataFrame**: A 2-dimensional labeled data structure with columns of potentially different types.\n",
    "- **Series**: A 1-dimensional labeled array capable of holding any data type.\n",
    "\n",
    "### Creating DataFrames and Series\n",
    "You can create DataFrames and Series from various data sources like lists, dictionaries, and CSV files.\n",
    "\n",
    "#### Creating a Series from a List"
   ]
  },
  {
   "cell_type": "code",
   "execution_count": 2,
   "id": "fd5bf44e",
   "metadata": {},
   "outputs": [
    {
     "name": "stdout",
     "output_type": "stream",
     "text": [
      "0    10\n",
      "1    20\n",
      "2    30\n",
      "3    40\n",
      "4    50\n",
      "Name: Numbers, dtype: int64\n"
     ]
    }
   ],
   "source": [
    "import pandas as pd\n",
    "\n",
    "# Create a Series\n",
    "data = [10, 20, 30, 40, 50]\n",
    "series = pd.Series(data, name='Numbers')\n",
    "print(series)"
   ]
  },
  {
   "cell_type": "markdown",
   "id": "9b619990",
   "metadata": {},
   "source": [
    "#### Creating a DataFrame from a Dictionary"
   ]
  },
  {
   "cell_type": "code",
   "execution_count": 3,
   "id": "829bffcb",
   "metadata": {},
   "outputs": [
    {
     "name": "stdout",
     "output_type": "stream",
     "text": [
      "      Car  Price  Rating\n",
      "0  Toyota  20000     4.5\n",
      "1   Honda  22000     4.0\n",
      "2    Ford  25000     4.2\n"
     ]
    }
   ],
   "source": [
    "\n",
    "# Create a DataFrame\n",
    "data = {\n",
    "    'Car': ['Toyota', 'Honda', 'Ford'],\n",
    "    'Price': [20000, 22000, 25000],\n",
    "    'Rating': [4.5, 4.0, 4.2]\n",
    "}\n",
    "df = pd.DataFrame(data)\n",
    "print(df)"
   ]
  },
  {
   "cell_type": "markdown",
   "id": "06ee945d",
   "metadata": {},
   "source": [
    "#### Creating a DataFrame from a CSV File"
   ]
  },
  {
   "cell_type": "code",
   "execution_count": 4,
   "id": "e2190cb4",
   "metadata": {},
   "outputs": [
    {
     "name": "stdout",
     "output_type": "stream",
     "text": [
      "  Category       Name    Price  Rating    Year\n",
      "0      Car     Toyota  20000.0     4.5  2020.0\n",
      "1      Car      Honda  22000.0     4.0  2021.0\n",
      "2     Film  Inception      NaN     8.8  2010.0\n",
      "3     Film     Avatar    150.0     7.8  2009.0\n",
      "4     Game  Minecraft     30.0     9.0  2011.0\n"
     ]
    }
   ],
   "source": [
    "# Create a dictionary with sample data\n",
    "data = {\n",
    "    'Category': ['Car', 'Car', 'Film', 'Film', 'Game', 'Game', 'Fruit', 'Fruit'],\n",
    "    'Name': ['Toyota', 'Honda', 'Inception', 'Avatar', 'Minecraft', 'Fortnite', 'Apple', 'Banana'],\n",
    "    'Price': [20000, 22000, None, 150, 30, 20, 1, 0.5],\n",
    "    'Rating': [4.5, 4.0, 8.8, 7.8, 9.0, 8.5, 4.2, 4.0],\n",
    "    'Year': [2020, 2021, 2010, 2009, 2011, 2017, None, None]\n",
    "}\n",
    "\n",
    "# Create a DataFrame\n",
    "df = pd.DataFrame(data)\n",
    "\n",
    "# Save the DataFrame to a CSV file\n",
    "df.to_csv('data.csv', index=False)\n",
    "\n",
    "# Read data from a CSV file\n",
    "df = pd.read_csv('data.csv')\n",
    "print(df.head())"
   ]
  },
  {
   "cell_type": "markdown",
   "id": "4e6392ca",
   "metadata": {},
   "source": [
    "\n",
    "### Common Operations\n",
    "1. **Selecting Data**: Use `.loc[]` and `.iloc[]` for label-based and integer-based indexing, respectively.\n",
    "2. **Filtering Rows**: Use boolean indexing to filter rows based on conditions.\n",
    "3. **Modifying Data**: Modify data by assigning new values or using functions.\n",
    "\n",
    "#### Selecting Data"
   ]
  },
  {
   "cell_type": "code",
   "execution_count": 9,
   "id": "76e204c7",
   "metadata": {},
   "outputs": [
    {
     "name": "stdout",
     "output_type": "stream",
     "text": [
      "0      Car\n",
      "1      Car\n",
      "2     Film\n",
      "3     Film\n",
      "4     Game\n",
      "5     Game\n",
      "6    Fruit\n",
      "7    Fruit\n",
      "Name: Category, dtype: object\n",
      "Category                Car\n",
      "Name                 Toyota\n",
      "Price               20000.0\n",
      "Rating                  4.5\n",
      "Year                 2020.0\n",
      "Discounted Price    18000.0\n",
      "Name: 0, dtype: object\n",
      "  Category    Price\n",
      "0      Car  20000.0\n",
      "1      Car  22000.0\n",
      "2     Film      NaN\n",
      "3     Film    150.0\n",
      "4     Game     30.0\n",
      "5     Game     20.0\n",
      "6    Fruit      1.0\n",
      "7    Fruit      0.5\n"
     ]
    }
   ],
   "source": [
    "# Select a column\n",
    "print(df['Category'])\n",
    "\n",
    "# Select rows and columns using .loc\n",
    "print(df.loc[0])\n",
    "print(df.loc[:, ['Category', 'Price']])"
   ]
  },
  {
   "cell_type": "markdown",
   "id": "d9e61e8e",
   "metadata": {},
   "source": [
    "#### Filtering Rows"
   ]
  },
  {
   "cell_type": "code",
   "execution_count": 8,
   "id": "3d88ec77",
   "metadata": {},
   "outputs": [
    {
     "name": "stdout",
     "output_type": "stream",
     "text": [
      "  Category   Name    Price  Rating    Year  Discounted Price\n",
      "1      Car  Honda  22000.0     4.0  2021.0           19800.0\n"
     ]
    }
   ],
   "source": [
    "# Filter rows where Price is greater than 21000\n",
    "filtered_df = df[df['Price'] > 21000]\n",
    "print(filtered_df)"
   ]
  },
  {
   "cell_type": "markdown",
   "id": "602f9eff",
   "metadata": {},
   "source": [
    "#### Filtering Rows"
   ]
  },
  {
   "cell_type": "code",
   "execution_count": 7,
   "id": "b6be607c",
   "metadata": {},
   "outputs": [
    {
     "name": "stdout",
     "output_type": "stream",
     "text": [
      "  Category   Name    Price  Rating    Year  Discounted Price\n",
      "1      Car  Honda  22000.0     4.0  2021.0           19800.0\n"
     ]
    }
   ],
   "source": [
    "# Filter rows where Price is greater than 21000\n",
    "filtered_df = df[df['Price'] > 21000]\n",
    "print(filtered_df)"
   ]
  },
  {
   "cell_type": "markdown",
   "id": "66c0f715",
   "metadata": {},
   "source": [
    "#### Modifying Data"
   ]
  },
  {
   "cell_type": "code",
   "execution_count": 6,
   "id": "98577c28",
   "metadata": {},
   "outputs": [
    {
     "name": "stdout",
     "output_type": "stream",
     "text": [
      "  Category       Name    Price  Rating    Year  Discounted Price\n",
      "0      Car     Toyota  20000.0     4.5  2020.0          18000.00\n",
      "1      Car      Honda  22000.0     4.0  2021.0          19800.00\n",
      "2     Film  Inception      NaN     8.8  2010.0               NaN\n",
      "3     Film     Avatar    150.0     7.8  2009.0            135.00\n",
      "4     Game  Minecraft     30.0     9.0  2011.0             27.00\n",
      "5     Game   Fortnite     20.0     8.5  2017.0             18.00\n",
      "6    Fruit      Apple      1.0     4.2     NaN              0.90\n",
      "7    Fruit     Banana      0.5     4.0     NaN              0.45\n"
     ]
    }
   ],
   "source": [
    "# Add a new column\n",
    "df['Discounted Price'] = df['Price'] * 0.9\n",
    "print(df)"
   ]
  },
  {
   "cell_type": "code",
   "execution_count": 10,
   "metadata": {},
   "outputs": [
    {
     "name": "stdout",
     "output_type": "stream",
     "text": [
      "0    10\n",
      "1    20\n",
      "2    30\n",
      "3    40\n",
      "4    50\n",
      "Name: Numbers, dtype: int64\n",
      "      Car  Price  Rating\n",
      "0  Toyota  20000     4.5\n",
      "1   Honda  22000     4.0\n",
      "2    Ford  25000     4.2\n"
     ]
    }
   ],
   "source": [
    "import pandas as pd\n",
    "\n",
    "# Create a Series\n",
    "data = [10, 20, 30, 40, 50]\n",
    "series = pd.Series(data, name='Numbers')\n",
    "print(series)\n",
    "\n",
    "# Create a DataFrame\n",
    "data = {\n",
    "    'Car': ['Toyota', 'Honda', 'Ford'],\n",
    "    'Price': [20000, 22000, 25000],\n",
    "    'Rating': [4.5, 4.0, 4.2]\n",
    "}\n",
    "df = pd.DataFrame(data)\n",
    "print(df)"
   ]
  },
  {
   "cell_type": "markdown",
   "metadata": {},
   "source": [
    "# 2. Data Handling with Pandas\n",
    "Pandas provides powerful tools for handling and preprocessing data.\n",
    "\n",
    "### Reading Data from Files\n",
    "Use `pd.read_csv()` to read data from CSV files.\n",
    "\n",
    "### Handling Missing Data\n",
    "- **Fill Missing Values**: Use `.fillna()` to fill missing values with a specified value or method.\n",
    "- **Drop Missing Values**: Use `.dropna()` to remove rows or columns with missing values.\n",
    "\n",
    "### Transforming Data\n",
    "- **Convert Data Types**: Use `.astype()` to convert data types.\n",
    "- **Remove Duplicates**: Use `.drop_duplicates()` to remove duplicate rows.\n",
    "\n",
    "#### Example: Reading Data from a CSV File\n"
   ]
  },
  {
   "cell_type": "code",
   "execution_count": 11,
   "id": "c078d183",
   "metadata": {},
   "outputs": [
    {
     "name": "stdout",
     "output_type": "stream",
     "text": [
      "  Category       Name    Price  Rating    Year\n",
      "0      Car     Toyota  20000.0     4.5  2020.0\n",
      "1      Car      Honda      NaN     4.0  2021.0\n",
      "2     Film  Inception      NaN     8.8  2010.0\n",
      "3     Film     Avatar    150.0     NaN  2009.0\n",
      "4     Game  Minecraft     30.0     9.0     NaN\n"
     ]
    }
   ],
   "source": [
    "import numpy as np\n",
    "# Create a dictionary with sample data including missing values\n",
    "data = {\n",
    "    'Category': ['Car', 'Car', 'Film', 'Film', 'Game', 'Game', 'Fruit', 'Fruit', 'Car', 'Game'],\n",
    "    'Name': ['Toyota', 'Honda', 'Inception', 'Avatar', 'Minecraft', 'Fortnite', 'Apple', 'Banana', 'BMW', 'The Sims'],\n",
    "    'Price': [20000, np.nan, np.nan, 150, 30, 20, np.nan, 0.5, 25000, np.nan],\n",
    "    'Rating': [4.5, 4.0, 8.8, np.nan, 9.0, 8.5, 4.2, np.nan, 4.3, 7.5],\n",
    "    'Year': [2020, 2021, 2010, 2009, np.nan, 2017, np.nan, np.nan, 2022, np.nan]\n",
    "}\n",
    "\n",
    "# Create a DataFrame\n",
    "df = pd.DataFrame(data)\n",
    "\n",
    "# Save the DataFrame to a CSV file\n",
    "df.to_csv('data.csv', index=False)\n",
    "\n",
    "#  Read data from a CSV file\n",
    "df = pd.read_csv('data.csv')\n",
    "print(df.head())"
   ]
  },
  {
   "cell_type": "markdown",
   "id": "7c10e70d",
   "metadata": {},
   "source": [
    "#### Example: Handling Missing Data"
   ]
  },
  {
   "cell_type": "code",
   "execution_count": 32,
   "id": "b7dfde2f",
   "metadata": {},
   "outputs": [],
   "source": [
    "# Fill missing values\n",
    "df['Price'] = df['Price'].fillna(df['Price'].mean())\n",
    "\n",
    "# Drop rows with missing values\n",
    "df.dropna(inplace=True)"
   ]
  },
  {
   "cell_type": "markdown",
   "id": "25a44d69",
   "metadata": {},
   "source": [
    "#### Example: Transforming Data"
   ]
  },
  {
   "cell_type": "code",
   "execution_count": 13,
   "id": "fea7e4bb",
   "metadata": {},
   "outputs": [],
   "source": [
    "# Convert data type\n",
    "df['Price'] = df['Price'].astype(float)\n",
    "\n",
    "# Remove duplicates\n",
    "df.drop_duplicates(inplace=True)"
   ]
  },
  {
   "cell_type": "code",
   "execution_count": 31,
   "metadata": {},
   "outputs": [
    {
     "name": "stdout",
     "output_type": "stream",
     "text": [
      "      Car  Price  Rating\n",
      "0  Toyota  20000     4.5\n",
      "1   Honda  22000     4.0\n",
      "2    Ford  25000     4.2\n",
      "      Car    Price  Rating\n",
      "0  Toyota  20000.0     4.5\n",
      "1   Honda  22500.0     4.0\n",
      "2    Ford  25000.0     4.2\n",
      "      Car    Price  Rating  Discounted Price\n",
      "0  Toyota  20000.0     4.5           18000.0\n",
      "1   Honda  22500.0     4.0           20250.0\n",
      "2    Ford  25000.0     4.2           22500.0\n"
     ]
    }
   ],
   "source": [
    "# Example of reading data from a CSV file\n",
    "df = pd.DataFrame({\n",
    "    'Car': ['Toyota', 'Honda', 'Ford'],\n",
    "    'Price': [20000, 22000, 25000],\n",
    "    'Rating': [4.5, 4.0, 4.2]\n",
    "})\n",
    "print(df)\n",
    "\n",
    "# Handling missing data\n",
    "df.loc[1, 'Price'] = None  # Introduce a missing value\n",
    "df['Price'] = df['Price'].fillna(df['Price'].mean())\n",
    "df.dropna(inplace=True)  # Drop rows with missing values (if any)\n",
    "\n",
    "# Transforming data\n",
    "df['Price'] = df['Price'].astype(float)\n",
    "df.drop_duplicates(inplace=True)\n",
    "\n",
    "print(df)\n",
    "\n",
    "# Add a new column for demonstration\n",
    "df['Discounted Price'] = df['Price'] * 0.9\n",
    "print(df)\n"
   ]
  },
  {
   "cell_type": "markdown",
   "metadata": {},
   "source": [
    "# 3. Data Analysis with Pandas\n"
   ]
  },
  {
   "cell_type": "markdown",
   "metadata": {},
   "source": [
    "Pandas is excellent for performing data analysis tasks.\n",
    "\n",
    "### Generating Summary Statistics\n",
    "You can use functions like `.describe()`, `.mean()`, `.median()`, and `.std()` to generate summary statistics.\n",
    "\n",
    "### Grouping Data\n",
    "Use `.groupby()` to group data and apply aggregate functions to each group.\n",
    "\n",
    "### Advanced Data Manipulation\n",
    "- **Merging DataFrames**: Use `.merge()` to combine DataFrames based on common columns.\n",
    "- **Joining DataFrames**: Use `.join()` to join DataFrames on indices.\n",
    "- **Concatenating DataFrames**: Use `pd.concat()` to concatenate DataFrames along a particular axis.\n",
    "\n",
    "#### Example: Generating Summary Statistics"
   ]
  },
  {
   "cell_type": "code",
   "execution_count": 15,
   "id": "751db992",
   "metadata": {},
   "outputs": [
    {
     "name": "stdout",
     "output_type": "stream",
     "text": [
      "         Price    Rating  Discounted Price\n",
      "count      3.0  3.000000               3.0\n",
      "mean   22500.0  4.233333           20250.0\n",
      "std     2500.0  0.251661            2250.0\n",
      "min    20000.0  4.000000           18000.0\n",
      "25%    21250.0  4.100000           19125.0\n",
      "50%    22500.0  4.200000           20250.0\n",
      "75%    23750.0  4.350000           21375.0\n",
      "max    25000.0  4.500000           22500.0\n",
      "22500.0\n",
      "4.2\n",
      "2500.0\n"
     ]
    }
   ],
   "source": [
    "# Summary statistics\n",
    "print(df.describe())\n",
    "print(df['Price'].mean())\n",
    "print(df['Rating'].median())\n",
    "print(df['Price'].std())\n"
   ]
  },
  {
   "cell_type": "markdown",
   "id": "b07b305b",
   "metadata": {},
   "source": [
    "#### Example: Grouping Data"
   ]
  },
  {
   "cell_type": "code",
   "execution_count": 16,
   "id": "b288d094",
   "metadata": {},
   "outputs": [
    {
     "name": "stdout",
     "output_type": "stream",
     "text": [
      "Car\n",
      "Ford      25000.0\n",
      "Honda     22500.0\n",
      "Toyota    20000.0\n",
      "Name: Price, dtype: float64\n"
     ]
    }
   ],
   "source": [
    "# Group by 'Car' and calculate mean price\n",
    "grouped_df = df.groupby('Car')['Price'].mean()\n",
    "print(grouped_df)"
   ]
  },
  {
   "cell_type": "markdown",
   "id": "b5394978",
   "metadata": {},
   "source": [
    "#### Example: Merging DataFrames"
   ]
  },
  {
   "cell_type": "code",
   "execution_count": 17,
   "id": "1e4d4420",
   "metadata": {},
   "outputs": [
    {
     "name": "stdout",
     "output_type": "stream",
     "text": [
      "      Car    Price  Rating  Discounted Price  Year\n",
      "0  Toyota  20000.0     4.5           18000.0  2020\n",
      "1   Honda  22500.0     4.0           20250.0  2021\n"
     ]
    }
   ],
   "source": [
    "# Create another DataFrame\n",
    "df2 = pd.DataFrame({\n",
    "    'Car': ['Toyota', 'Honda'],\n",
    "    'Year': [2020, 2021]\n",
    "})\n",
    "\n",
    "# Merge DataFrames\n",
    "merged_df = pd.merge(df, df2, on='Car')\n",
    "print(merged_df)"
   ]
  },
  {
   "cell_type": "markdown",
   "id": "7b6e19c7",
   "metadata": {},
   "source": [
    "#### Example: Concatenating DataFrames"
   ]
  },
  {
   "cell_type": "code",
   "execution_count": 18,
   "id": "5b4760f8",
   "metadata": {},
   "outputs": [
    {
     "name": "stdout",
     "output_type": "stream",
     "text": [
      "      Car    Price  Rating  Discounted Price\n",
      "0  Toyota  20000.0     4.5           18000.0\n",
      "1   Honda  22500.0     4.0           20250.0\n",
      "2    Ford  25000.0     4.2           22500.0\n",
      "3     BMW  30000.0     4.3               NaN\n"
     ]
    }
   ],
   "source": [
    "# Create another DataFrame\n",
    "df3 = pd.DataFrame({\n",
    "    'Car': ['BMW'],\n",
    "    'Price': [30000],\n",
    "    'Rating': [4.3]\n",
    "})\n",
    "\n",
    "# Concatenate DataFrames\n",
    "concat_df = pd.concat([df, df3], ignore_index=True)\n",
    "print(concat_df)"
   ]
  },
  {
   "cell_type": "code",
   "execution_count": 19,
   "metadata": {},
   "outputs": [
    {
     "name": "stdout",
     "output_type": "stream",
     "text": [
      "         Price    Rating  Discounted Price\n",
      "count      3.0  3.000000               3.0\n",
      "mean   22500.0  4.233333           20250.0\n",
      "std     2500.0  0.251661            2250.0\n",
      "min    20000.0  4.000000           18000.0\n",
      "25%    21250.0  4.100000           19125.0\n",
      "50%    22500.0  4.200000           20250.0\n",
      "75%    23750.0  4.350000           21375.0\n",
      "max    25000.0  4.500000           22500.0\n",
      "22500.0\n",
      "4.2\n",
      "2500.0\n",
      "Car\n",
      "Ford      25000.0\n",
      "Honda     22500.0\n",
      "Toyota    20000.0\n",
      "Name: Price, dtype: float64\n",
      "      Car    Price  Rating  Discounted Price  Year\n",
      "0  Toyota  20000.0     4.5           18000.0  2020\n",
      "1   Honda  22500.0     4.0           20250.0  2021\n",
      "      Car    Price  Rating  Discounted Price\n",
      "0  Toyota  20000.0     4.5           18000.0\n",
      "1   Honda  22500.0     4.0           20250.0\n",
      "2    Ford  25000.0     4.2           22500.0\n",
      "3     BMW  30000.0     4.3               NaN\n"
     ]
    }
   ],
   "source": [
    "# Example of generating summary statistics\n",
    "print(df.describe())\n",
    "print(df['Price'].mean())\n",
    "print(df['Rating'].median())\n",
    "print(df['Price'].std())\n",
    "\n",
    "# Group by 'Car' and calculate mean price\n",
    "grouped_df = df.groupby('Car')['Price'].mean()\n",
    "print(grouped_df)\n",
    "\n",
    "# Create another DataFrame\n",
    "df2 = pd.DataFrame({\n",
    "    'Car': ['Toyota', 'Honda'],\n",
    "    'Year': [2020, 2021]\n",
    "})\n",
    "\n",
    "# Merge DataFrames\n",
    "merged_df = pd.merge(df, df2, on='Car')\n",
    "print(merged_df)\n",
    "\n",
    "# Create another DataFrame\n",
    "df3 = pd.DataFrame({\n",
    "    'Car': ['BMW'],\n",
    "    'Price': [30000],\n",
    "    'Rating': [4.3]\n",
    "})\n",
    "\n",
    "# Concatenate DataFrames\n",
    "concat_df = pd.concat([df, df3], ignore_index=True)\n",
    "print(concat_df)\n"
   ]
  },
  {
   "cell_type": "markdown",
   "metadata": {},
   "source": [
    "# 4. Application in Data Science\n",
    "Pandas is a cornerstone of data science due to its ability to handle, manipulate, and analyze data efficiently.\n",
    "\n",
    "### Advantages Over Traditional Data Structures\n",
    "- **Efficiency**: Pandas is optimized for performance and can handle large datasets more efficiently than native Python data structures.\n",
    "- **Flexibility**: Provides a wide range of functionalities for data manipulation and analysis.\n",
    "- **Integration**: Works well with other libraries like NumPy, Matplotlib, and Scikit-learn.\n",
    "\n",
    "### Real-World Examples\n",
    "- **Data Cleaning**: Removing duplicates, handling missing values, and data transformation.\n",
    "- **Exploratory Data Analysis (EDA)**: Analyzing datasets to summarize their main characteristics.\n",
    "- **Machine Learning**: Preprocessing data for machine learning models, including feature extraction and data preparation.\n",
    "\n",
    "#### Example: Data Cleaning and EDA\n"
   ]
  },
  {
   "cell_type": "code",
   "execution_count": 33,
   "id": "6dff2fea",
   "metadata": {},
   "outputs": [
    {
     "name": "stdout",
     "output_type": "stream",
     "text": [
      "       Release_Year     Rating\n",
      "count      9.000000  10.000000\n",
      "mean    1996.444444   8.662500\n",
      "std       10.489413   0.489756\n",
      "min     1972.000000   7.800000\n",
      "25%     1994.000000   8.662500\n",
      "50%     1998.000000   8.800000\n",
      "75%     2003.000000   8.900000\n",
      "max     2008.000000   9.300000\n",
      "Rating\n",
      "8.8000    2\n",
      "8.6625    2\n",
      "7.8000    2\n",
      "8.9000    2\n",
      "9.0000    1\n",
      "9.3000    1\n",
      "Name: count, dtype: int64\n"
     ]
    }
   ],
   "source": [
    "movies_data = {\n",
    "    'Title': ['Inception', 'The Matrix', 'Avatar', 'The Dark Knight', 'Titanic', 'The Shawshank Redemption', 'Pulp Fiction', 'The Godfather', 'Forrest Gump', 'The Lord of the Rings: The Return of the King'],\n",
    "    'Genre': ['Sci-Fi', 'Sci-Fi', 'Action', 'Action', 'Romance', 'Drama', 'Crime', 'Crime', 'Drama', 'Fantasy'],\n",
    "    'Release_Year': [2000, 1998, 2005, 2008, np.nan, 1994, 1994, 1972, 1994, 2003],\n",
    "    'Rating': [8.8, np.nan, 7.8, 9.0, 7.8, 9.3, 8.9, np.nan, 8.8, 8.9]\n",
    "}\n",
    "\n",
    "# Create a DataFrame\n",
    "movies_df = pd.DataFrame(movies_data)\n",
    "\n",
    "# Save the DataFrame to a CSV file\n",
    "movies_df.to_csv('movies.csv', index=False)\n",
    "\n",
    "# Load a dataset\n",
    "df = pd.read_csv('movies.csv')\n",
    "\n",
    "# Drop duplicates\n",
    "df.drop_duplicates(inplace=True)\n",
    "\n",
    "# Handle missing values\n",
    "df[\"Rating\"] = df[\"Rating\"].fillna(df[\"Rating\"].mean())\n",
    "\n",
    "# Basic EDA\n",
    "print(df.describe())\n",
    "print(df['Rating'].value_counts())"
   ]
  },
  {
   "cell_type": "code",
   "execution_count": 34,
   "metadata": {},
   "outputs": [
    {
     "name": "stdout",
     "output_type": "stream",
     "text": [
      "             Price    Rating         Year\n",
      "count      4.00000  4.000000     4.000000\n",
      "mean   24250.00000  4.250000  2020.666667\n",
      "std     4349.32945  0.208167     0.471405\n",
      "min    20000.00000  4.000000  2020.000000\n",
      "25%    21500.00000  4.150000  2020.500000\n",
      "50%    23500.00000  4.250000  2020.833333\n",
      "75%    26250.00000  4.350000  2021.000000\n",
      "max    30000.00000  4.500000  2021.000000\n",
      "Rating\n",
      "4.5    1\n",
      "4.0    1\n",
      "4.2    1\n",
      "4.3    1\n",
      "Name: count, dtype: int64\n"
     ]
    }
   ],
   "source": [
    "# Example of data cleaning and EDA\n",
    "df = pd.DataFrame({\n",
    "    'Car': ['Toyota', 'Honda', 'Ford', 'BMW'],\n",
    "    'Price': [20000, 22000, 25000, 30000],\n",
    "    'Rating': [4.5, 4.0, 4.2, 4.3],\n",
    "    'Year': [2020, 2021, None, 2021]\n",
    "})\n",
    "\n",
    "# Drop duplicates\n",
    "df.drop_duplicates(inplace=True)\n",
    "\n",
    "# Handle missing values\n",
    "df.fillna(df.mean(numeric_only=True), inplace=True)\n",
    "\n",
    "# Basic EDA\n",
    "print(df.describe())\n",
    "print(df['Rating'].value_counts())\n"
   ]
  },
  {
   "cell_type": "markdown",
   "metadata": {},
   "source": [
    "# Summary of Findings and Benefits of Pandas for Data Science Professionals\n",
    "\n",
    "## 1. Data Handling with Pandas\n",
    "\n",
    "- **DataFrames and Series**: Pandas provides two primary data structures, DataFrames and Series, which make handling and manipulating data straightforward. DataFrames are akin to SQL tables or Excel spreadsheets, while Series is a one-dimensional array.\n",
    "- **Data Creation**: You can create DataFrames and Series from lists, dictionaries, and CSV files. This flexibility allows for efficient data import and export.\n",
    "- **Data Manipulation**: Operations such as selecting specific rows or columns, filtering data, and modifying values are simple with Pandas, which is crucial for preprocessing and cleaning data.\n",
    "\n",
    "## 2. Data Cleaning and Preprocessing\n",
    "\n",
    "- **Handling Missing Values**: Pandas provides methods to identify and manage missing data, such as `fillna()` to fill missing values and `dropna()` to remove them.\n",
    "- **Removing Duplicates**: Use `drop_duplicates()` to remove duplicate entries and ensure data integrity.\n",
    "- **Data Type Conversion**: Easily convert data types with functions like `astype()` to ensure data is in the correct format for analysis.\n",
    "\n",
    "## 3. Data Analysis\n",
    "\n",
    "- **Summary Statistics**: Generate summary statistics like mean, median, and standard deviation with `describe()`.\n",
    "- **Grouping and Aggregation**: Group data and perform aggregate functions (e.g., `sum()`, `mean()`) to extract insights and analyze patterns.\n",
    "- **Merging and Joining**: Combine datasets using `merge()` and `join()` based on common columns or indices, essential for integrating diverse data sources.\n",
    "\n",
    "## 4. Application in Data Science\n",
    "\n",
    "- **Efficiency**: Pandas is optimized for performance and can handle large datasets efficiently compared to traditional Python data structures.\n",
    "- **Integration with Other Libraries**: It integrates well with libraries like NumPy, Matplotlib, and Scikit-learn, enhancing its utility in data science workflows.\n",
    "- **Data Cleaning and Exploratory Data Analysis (EDA)**: Pandas is crucial for data cleaning, preprocessing, and EDA, helping understand data distribution, detect anomalies, and prepare data for machine learning models.\n",
    "\n",
    "## Benefits for Data Science Professionals\n",
    "\n",
    "1. **Streamlined Data Processing**: Simplifies complex data manipulation tasks, allowing data scientists to focus on analysis rather than data wrangling.\n",
    "2. **Enhanced Productivity**: Reduces the amount of code needed for data analysis, leading to faster development cycles.\n",
    "3. **Better Data Insights**: Facilitates sophisticated data transformations and aggregations, uncovering valuable insights and trends.\n",
    "4. **Real-World Applications**:\n",
    "   - **Financial Analysis**: Analyze stock prices, generate financial reports, and forecast trends.\n",
    "   - **Scientific Research**: Process and analyze experimental data, manage large datasets, and visualize results.\n",
    "   - **Machine Learning**: Preprocess data, perform feature engineering, and prepare datasets for model training.\n",
    "\n",
    "## Conclusion\n",
    "\n",
    "Pandas is a powerful and versatile tool in data science. Its efficiency in handling, manipulating, and analyzing data makes it essential for data science professionals. By streamlining data processing tasks and providing comprehensive analysis capabilities, Pandas enhances productivity and supports more effective data-driven decision-making.\n"
   ]
  }
 ],
 "metadata": {
  "kernelspec": {
   "display_name": "Python 3",
   "language": "python",
   "name": "python3"
  },
  "language_info": {
   "codemirror_mode": {
    "name": "ipython",
    "version": 3
   },
   "file_extension": ".py",
   "mimetype": "text/x-python",
   "name": "python",
   "nbconvert_exporter": "python",
   "pygments_lexer": "ipython3",
   "version": "3.12.2"
  }
 },
 "nbformat": 4,
 "nbformat_minor": 5
}
